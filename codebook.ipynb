{
 "cells": [
  {
   "cell_type": "markdown",
   "metadata": {},
   "source": [
    "\n",
    "#  Semantic Differences Between Twitter-Based Expressions of Anxiety and Depression\n",
    "\n",
    "\n",
    "\n",
    "### Project Codebook\n",
    "___\n"
   ]
  },
  {
   "cell_type": "markdown",
   "metadata": {},
   "source": [
    "Below are variable descriptions in the cleaned dataframes (available in project '/processed_data' folder). Refer to project README for further details regarding data sources, cleaning and analyses."
   ]
  },
  {
   "cell_type": "markdown",
   "metadata": {},
   "source": [
    "### Project Data Variables\n",
    "___\n",
    "\n",
    "**Date_Created**- Date tweet was originally posted on Twitter platform.\n",
    "\n",
    "**Tweet_ID**- Unique number ID for each tweet\n",
    "  \n",
    "**Full_Text**- Original, full text of pulled tweet  (uncleaned)\n",
    "\n",
    "**Entities**- Hashtags used in original tweet\n",
    "  \n",
    "**Count_Retweets**- Number of times original tweet was retweeted on Twitter\n",
    "  \n",
    "**Count_Favorites**- Number of times original tweet was favorited on Twitter \n",
    "  \n",
    "**MI_Type**- Classification of tweet as depression or anxiety topic-oriented. Depression is identified with '0' and anxiety is identified with '1'.\n",
    "\n",
    "**Clean_Text**- Original tweet preprocessed for text analysis\n",
    "\n",
    "**Text_Length**- Number of words in each cleaned tweet\n",
    "\n",
    "**sid_scores**- list of each word's polarity score (i.e. 'positive' or 'negative' with ratio) in related tweet as evaluated by the VADER sentiment analysis library. Note- specific to 'mi_twitter_data_sentiment_analysis.csv'.\n",
    "\n",
    "**compound_scores**- compound polarity score calculated from sid_scores. Indicates tweet overall polarity score. Note- specific to 'mi_twitter_data_sentiment_analysis.csv'.\n",
    "\n",
    "**sentiment**- Sentiment classification as calculated by compound_scores. Tweet is classified as 'positive' if compound score > 0 and 'negative' if compound score < 0."
   ]
  }
 ],
 "metadata": {
  "kernelspec": {
   "display_name": "Python 3",
   "language": "python",
   "name": "python3"
  },
  "language_info": {
   "codemirror_mode": {
    "name": "ipython",
    "version": 3
   },
   "file_extension": ".py",
   "mimetype": "text/x-python",
   "name": "python",
   "nbconvert_exporter": "python",
   "pygments_lexer": "ipython3",
   "version": "3.7.6"
  }
 },
 "nbformat": 4,
 "nbformat_minor": 4
}
