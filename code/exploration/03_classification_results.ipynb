{
 "cells": [
  {
   "cell_type": "markdown",
   "metadata": {},
   "source": [
    "## Project Results\n",
    "---\n",
    "The following is a summary of model selection and results as run via the 03_do_classification.py script."
   ]
  },
  {
   "cell_type": "markdown",
   "metadata": {},
   "source": [
    "### Overview\n",
    "---\n",
    "Anxiety and depression are common and debilitating mental disorders that can cause significant impairment in daily functioning, physical health, and cognition. Understanding how symptoms of either clinical disorder are expressed can aid in early identification of development, progress of AI-aided virtual therapy platforms and chatbots, and general clarification of the linguistic differences between highly comorbid manifestation of anxiety and depression.\n",
    "\n",
    "Acknowledgment of anxiety and depression symptoms are often verbalized on social media platforms such as Twitter. This project looks to utilize natural language processing (NLP) to evaluate how both anxiety and depression are differentially expressed on Twitter.  \n",
    "\n",
    "For a deeper look at project data sources and layout, refer to project README.ipynb.\n",
    "\n",
    "---"
   ]
  },
  {
   "cell_type": "markdown",
   "metadata": {},
   "source": [
    "Load initial libraries..."
   ]
  },
  {
   "cell_type": "code",
   "execution_count": 1,
   "metadata": {},
   "outputs": [],
   "source": [
    "from IPython.core.interactiveshell import InteractiveShell\n",
    "InteractiveShell.ast_node_interactivity = \"all\"\n",
    "import pandas as pd\n",
    "import numpy as np\n",
    "import re\n",
    "import unicodedata\n",
    "import random\n",
    "import sys \n",
    "import os\n",
    "sys.path.append(os.path.abspath(\"/Users/emilyburns/Documents/Data_Science/projects/twitter_nlp/code/script/functions\"))\n",
    "from funs_do_classification import *"
   ]
  },
  {
   "cell_type": "code",
   "execution_count": 2,
   "metadata": {},
   "outputs": [
    {
     "data": {
      "text/html": [
       "<script>\n",
       "code_show_err=false; \n",
       "function code_toggle_err() {\n",
       " if (code_show_err){\n",
       " $('div.output_stderr').hide();\n",
       " } else {\n",
       " $('div.output_stderr').show();\n",
       " }\n",
       " code_show_err = !code_show_err\n",
       "} \n",
       "$( document ).ready(code_toggle_err);\n",
       "</script>\n",
       "To toggle on/off output_stderr, click <a href=\"javascript:code_toggle_err()\">here</a>."
      ],
      "text/plain": [
       "<IPython.core.display.HTML object>"
      ]
     },
     "execution_count": 2,
     "metadata": {},
     "output_type": "execute_result"
    }
   ],
   "source": [
    "# hiding warnings\n",
    "from IPython.display import HTML\n",
    "HTML('''<script>\n",
    "code_show_err=false; \n",
    "function code_toggle_err() {\n",
    " if (code_show_err){\n",
    " $('div.output_stderr').hide();\n",
    " } else {\n",
    " $('div.output_stderr').show();\n",
    " }\n",
    " code_show_err = !code_show_err\n",
    "} \n",
    "$( document ).ready(code_toggle_err);\n",
    "</script>\n",
    "To toggle on/off output_stderr, click <a href=\"javascript:code_toggle_err()\">here</a>.''')"
   ]
  },
  {
   "cell_type": "code",
   "execution_count": 3,
   "metadata": {},
   "outputs": [],
   "source": [
    "random.seed(101)"
   ]
  },
  {
   "cell_type": "markdown",
   "metadata": {},
   "source": [
    "Next, import the clean data..."
   ]
  },
  {
   "cell_type": "code",
   "execution_count": 4,
   "metadata": {},
   "outputs": [],
   "source": [
    "clean_df = pd.read_csv('/Users/emilyburns/Documents/Data_Science/projects/twitter_nlp/data/processed_data/mi_twitter_data_clean.csv')"
   ]
  },
  {
   "cell_type": "code",
   "execution_count": 5,
   "metadata": {},
   "outputs": [
    {
     "name": "stdout",
     "output_type": "stream",
     "text": [
      "<class 'pandas.core.frame.DataFrame'>\n",
      "RangeIndex: 98666 entries, 0 to 98665\n",
      "Data columns (total 9 columns):\n",
      " #   Column           Non-Null Count  Dtype \n",
      "---  ------           --------------  ----- \n",
      " 0   Date_Created     98666 non-null  object\n",
      " 1   Tweet_ID         98666 non-null  int64 \n",
      " 2   Full_Text        98666 non-null  object\n",
      " 3   Entities         98666 non-null  object\n",
      " 4   Count_Retweets   98666 non-null  int64 \n",
      " 5   Count_Favorites  98666 non-null  int64 \n",
      " 6   MI_Type          98666 non-null  int64 \n",
      " 7   Clean_Text       98665 non-null  object\n",
      " 8   Text_Length      98666 non-null  int64 \n",
      "dtypes: int64(5), object(4)\n",
      "memory usage: 6.8+ MB\n"
     ]
    }
   ],
   "source": [
    "clean_df.info()"
   ]
  },
  {
   "cell_type": "code",
   "execution_count": 6,
   "metadata": {},
   "outputs": [],
   "source": [
    "clean_df['Clean_Text'] = clean_df['Clean_Text'].astype('|S')"
   ]
  },
  {
   "cell_type": "markdown",
   "metadata": {},
   "source": [
    "Before moving onto modeling, a few additional stopwords are added to the ones provided by sklearn. "
   ]
  },
  {
   "cell_type": "code",
   "execution_count": 7,
   "metadata": {},
   "outputs": [],
   "source": [
    "from sklearn.feature_extraction.text import ENGLISH_STOP_WORDS\n",
    "stop_words = text.ENGLISH_STOP_WORDS.union('thing', 'la', 'd', 'gon', 'na', 'wa', 'dont' \n",
    "                                           'padukone', 'ha', 'le', 'u', 'youre', 'im', 'thats', \"ive\")"
   ]
  },
  {
   "cell_type": "markdown",
   "metadata": {},
   "source": [
    "The text corpus is then split into train and test subsets prior to modeling as well."
   ]
  },
  {
   "cell_type": "code",
   "execution_count": 8,
   "metadata": {},
   "outputs": [],
   "source": [
    "from sklearn.model_selection import train_test_split"
   ]
  },
  {
   "cell_type": "code",
   "execution_count": 9,
   "metadata": {},
   "outputs": [],
   "source": [
    "X = clean_df['Clean_Text']\n",
    "y = clean_df['MI_Type']\n",
    "\n",
    "X_train, X_test, y_train, y_test = train_test_split(X, y, test_size = 0.3, random_state = 101)"
   ]
  },
  {
   "cell_type": "code",
   "execution_count": 10,
   "metadata": {},
   "outputs": [
    {
     "name": "stdout",
     "output_type": "stream",
     "text": [
      "Number of tweets in training data: 69066\n",
      "Samples per class (training): [34054 35012]\n",
      "Number of tweets in test data: 29600\n",
      "Samples per class (test): [14612 14988]\n"
     ]
    }
   ],
   "source": [
    "print(\"Number of tweets in training data: {}\".format(len(X_train))) \n",
    "print(\"Samples per class (training): {}\".format(np.bincount(y_train)))\n",
    "print(\"Number of tweets in test data: {}\".format(len(X_test))) \n",
    "print(\"Samples per class (test): {}\".format(np.bincount(y_test)))"
   ]
  },
  {
   "cell_type": "markdown",
   "metadata": {},
   "source": [
    "\n",
    "\n",
    "### Naive Bayes Model\n",
    "---\n",
    "The first model we'll run is a Multinomial Naive Bayes classification algorithm. A pipeline coupled with a grid search will vectorize and transform the text prior to fitting it to the multinomial naive bayes algorithm with an array of parameters.\n"
   ]
  },
  {
   "cell_type": "code",
   "execution_count": 11,
   "metadata": {},
   "outputs": [],
   "source": [
    "from sklearn.naive_bayes import MultinomialNB\n",
    "from sklearn.feature_extraction import text \n",
    "from sklearn.pipeline import Pipeline\n",
    "from sklearn.model_selection import GridSearchCV\n",
    "from sklearn.model_selection import cross_val_score\n",
    "from sklearn.feature_extraction.text import CountVectorizer\n",
    "from sklearn.feature_extraction.text import TfidfTransformer\n",
    "import mglearn"
   ]
  },
  {
   "cell_type": "code",
   "execution_count": 50,
   "metadata": {},
   "outputs": [],
   "source": [
    "nb_pipeline = Pipeline([\n",
    "    ('vect', CountVectorizer(tokenizer = LemmaTokenizer(), \n",
    "                             min_df = 5, stop_words = stop_words)),\n",
    "    ('tfid', TfidfTransformer()),\n",
    "    ('clf', MultinomialNB(fit_prior = False))\n",
    "])\n",
    "\n",
    "nb_param_grid = {\n",
    "    \"clf__alpha\": [0.01, 0.1, 0.5, 1.0, 10.0],\n",
    "    \"vect__ngram_range\": [(1, 1), (2, 2), (3, 3)]}\n",
    "\n",
    "nb_grid = GridSearchCV(nb_pipeline, nb_param_grid, cv = 5, n_jobs=-1)"
   ]
  },
  {
   "cell_type": "code",
   "execution_count": 52,
   "metadata": {},
   "outputs": [
    {
     "name": "stderr",
     "output_type": "stream",
     "text": [
      "/opt/anaconda3/lib/python3.7/site-packages/sklearn/feature_extraction/text.py:386: UserWarning: Your stop_words may be inconsistent with your preprocessing. Tokenizing the stop words generated tokens ['ha', 'le', 'wa'] not in stop_words.\n",
      "  'stop_words.' % sorted(inconsistent))\n"
     ]
    },
    {
     "name": "stdout",
     "output_type": "stream",
     "text": [
      "Best estimator:\n",
      "Pipeline(steps=[('vect',\n",
      "                 CountVectorizer(min_df=5, ngram_range=(2, 2),\n",
      "                                 stop_words=frozenset({'a', 'about', 'above',\n",
      "                                                       'across', 'after',\n",
      "                                                       'afterwards', 'again',\n",
      "                                                       'against', 'all',\n",
      "                                                       'almost', 'alone',\n",
      "                                                       'along', 'already',\n",
      "                                                       'also', 'although',\n",
      "                                                       'always', 'am', 'among',\n",
      "                                                       'amongst', 'amoungst',\n",
      "                                                       'amount', 'an', 'and',\n",
      "                                                       'another', 'any',\n",
      "                                                       'anyhow', 'anyone',\n",
      "                                                       'anything', 'anyway',\n",
      "                                                       'anywhere', ...}),\n",
      "                                 tokenizer=<funs_do_classification.LemmaTokenizer object at 0x7f9b097417d0>)),\n",
      "                ('tfid', TfidfTransformer()),\n",
      "                ('clf', MultinomialNB(fit_prior=False))])\n",
      "\n",
      "Logistic regression step:\n",
      "MultinomialNB(fit_prior=False)\n",
      "\n",
      "Best cross-validation score: 0.88\n",
      "\n",
      "Best parameters:\n",
      "{'clf__alpha': 1.0, 'vect__ngram_range': (2, 2)}\n"
     ]
    },
    {
     "data": {
      "text/html": [
       "<div>\n",
       "<style scoped>\n",
       "    .dataframe tbody tr th:only-of-type {\n",
       "        vertical-align: middle;\n",
       "    }\n",
       "\n",
       "    .dataframe tbody tr th {\n",
       "        vertical-align: top;\n",
       "    }\n",
       "\n",
       "    .dataframe thead th {\n",
       "        text-align: right;\n",
       "    }\n",
       "</style>\n",
       "<table border=\"1\" class=\"dataframe\">\n",
       "  <thead>\n",
       "    <tr style=\"text-align: right;\">\n",
       "      <th></th>\n",
       "      <th>mean_fit_time</th>\n",
       "      <th>std_fit_time</th>\n",
       "      <th>mean_score_time</th>\n",
       "      <th>std_score_time</th>\n",
       "      <th>param_clf__alpha</th>\n",
       "      <th>param_vect__ngram_range</th>\n",
       "      <th>params</th>\n",
       "      <th>split0_test_score</th>\n",
       "      <th>split1_test_score</th>\n",
       "      <th>split2_test_score</th>\n",
       "      <th>split3_test_score</th>\n",
       "      <th>split4_test_score</th>\n",
       "      <th>mean_test_score</th>\n",
       "      <th>std_test_score</th>\n",
       "      <th>rank_test_score</th>\n",
       "    </tr>\n",
       "  </thead>\n",
       "  <tbody>\n",
       "    <tr>\n",
       "      <th>0</th>\n",
       "      <td>25.655425</td>\n",
       "      <td>0.958286</td>\n",
       "      <td>5.828916</td>\n",
       "      <td>0.085255</td>\n",
       "      <td>0.01</td>\n",
       "      <td>(1, 1)</td>\n",
       "      <td>{'clf__alpha': 0.01, 'vect__ngram_range': (1, 1)}</td>\n",
       "      <td>0.827494</td>\n",
       "      <td>0.831753</td>\n",
       "      <td>0.830305</td>\n",
       "      <td>0.830956</td>\n",
       "      <td>0.830305</td>\n",
       "      <td>0.830162</td>\n",
       "      <td>0.001437</td>\n",
       "      <td>10</td>\n",
       "    </tr>\n",
       "    <tr>\n",
       "      <th>1</th>\n",
       "      <td>25.737915</td>\n",
       "      <td>1.041525</td>\n",
       "      <td>6.150442</td>\n",
       "      <td>0.091953</td>\n",
       "      <td>0.01</td>\n",
       "      <td>(2, 2)</td>\n",
       "      <td>{'clf__alpha': 0.01, 'vect__ngram_range': (2, 2)}</td>\n",
       "      <td>0.873100</td>\n",
       "      <td>0.874611</td>\n",
       "      <td>0.874900</td>\n",
       "      <td>0.878593</td>\n",
       "      <td>0.873742</td>\n",
       "      <td>0.874989</td>\n",
       "      <td>0.001911</td>\n",
       "      <td>5</td>\n",
       "    </tr>\n",
       "    <tr>\n",
       "      <th>2</th>\n",
       "      <td>26.285806</td>\n",
       "      <td>0.786114</td>\n",
       "      <td>6.246382</td>\n",
       "      <td>0.082206</td>\n",
       "      <td>0.01</td>\n",
       "      <td>(3, 3)</td>\n",
       "      <td>{'clf__alpha': 0.01, 'vect__ngram_range': (3, 3)}</td>\n",
       "      <td>0.567251</td>\n",
       "      <td>0.570622</td>\n",
       "      <td>0.567002</td>\n",
       "      <td>0.569319</td>\n",
       "      <td>0.571418</td>\n",
       "      <td>0.569122</td>\n",
       "      <td>0.001764</td>\n",
       "      <td>13</td>\n",
       "    </tr>\n",
       "    <tr>\n",
       "      <th>3</th>\n",
       "      <td>34.856293</td>\n",
       "      <td>5.023572</td>\n",
       "      <td>7.370725</td>\n",
       "      <td>0.532786</td>\n",
       "      <td>0.1</td>\n",
       "      <td>(1, 1)</td>\n",
       "      <td>{'clf__alpha': 0.1, 'vect__ngram_range': (1, 1)}</td>\n",
       "      <td>0.830969</td>\n",
       "      <td>0.834576</td>\n",
       "      <td>0.832332</td>\n",
       "      <td>0.832839</td>\n",
       "      <td>0.832332</td>\n",
       "      <td>0.832609</td>\n",
       "      <td>0.001163</td>\n",
       "      <td>9</td>\n",
       "    </tr>\n",
       "    <tr>\n",
       "      <th>4</th>\n",
       "      <td>37.208676</td>\n",
       "      <td>2.162445</td>\n",
       "      <td>7.253223</td>\n",
       "      <td>0.608147</td>\n",
       "      <td>0.1</td>\n",
       "      <td>(2, 2)</td>\n",
       "      <td>{'clf__alpha': 0.1, 'vect__ngram_range': (2, 2)}</td>\n",
       "      <td>0.875561</td>\n",
       "      <td>0.876638</td>\n",
       "      <td>0.878158</td>\n",
       "      <td>0.880185</td>\n",
       "      <td>0.874466</td>\n",
       "      <td>0.877002</td>\n",
       "      <td>0.002006</td>\n",
       "      <td>4</td>\n",
       "    </tr>\n",
       "  </tbody>\n",
       "</table>\n",
       "</div>"
      ],
      "text/plain": [
       "   mean_fit_time  std_fit_time  mean_score_time  std_score_time  \\\n",
       "0      25.655425      0.958286         5.828916        0.085255   \n",
       "1      25.737915      1.041525         6.150442        0.091953   \n",
       "2      26.285806      0.786114         6.246382        0.082206   \n",
       "3      34.856293      5.023572         7.370725        0.532786   \n",
       "4      37.208676      2.162445         7.253223        0.608147   \n",
       "\n",
       "  param_clf__alpha param_vect__ngram_range  \\\n",
       "0             0.01                  (1, 1)   \n",
       "1             0.01                  (2, 2)   \n",
       "2             0.01                  (3, 3)   \n",
       "3              0.1                  (1, 1)   \n",
       "4              0.1                  (2, 2)   \n",
       "\n",
       "                                              params  split0_test_score  \\\n",
       "0  {'clf__alpha': 0.01, 'vect__ngram_range': (1, 1)}           0.827494   \n",
       "1  {'clf__alpha': 0.01, 'vect__ngram_range': (2, 2)}           0.873100   \n",
       "2  {'clf__alpha': 0.01, 'vect__ngram_range': (3, 3)}           0.567251   \n",
       "3   {'clf__alpha': 0.1, 'vect__ngram_range': (1, 1)}           0.830969   \n",
       "4   {'clf__alpha': 0.1, 'vect__ngram_range': (2, 2)}           0.875561   \n",
       "\n",
       "   split1_test_score  split2_test_score  split3_test_score  split4_test_score  \\\n",
       "0           0.831753           0.830305           0.830956           0.830305   \n",
       "1           0.874611           0.874900           0.878593           0.873742   \n",
       "2           0.570622           0.567002           0.569319           0.571418   \n",
       "3           0.834576           0.832332           0.832839           0.832332   \n",
       "4           0.876638           0.878158           0.880185           0.874466   \n",
       "\n",
       "   mean_test_score  std_test_score  rank_test_score  \n",
       "0         0.830162        0.001437               10  \n",
       "1         0.874989        0.001911                5  \n",
       "2         0.569122        0.001764               13  \n",
       "3         0.832609        0.001163                9  \n",
       "4         0.877002        0.002006                4  "
      ]
     },
     "metadata": {},
     "output_type": "display_data"
    }
   ],
   "source": [
    "TrainModel(nb_grid, X_train, y_train)"
   ]
  },
  {
   "cell_type": "markdown",
   "metadata": {},
   "source": [
    "---\n",
    "From the above training results, we can see that the training model returned a best cv score of 88% when using parameters alpha 1.0 and 2 ngrams.\n",
    "\n",
    "To better understand the model, we can also visualize the top 40 model coefficients and their associated text. \n",
    "\n",
    "---"
   ]
  },
  {
   "cell_type": "code",
   "execution_count": 14,
   "metadata": {},
   "outputs": [
    {
     "data": {
      "image/png": "[encoded data removed]",
      "text/plain": [
       "<Figure size 1080x360 with 1 Axes>"
      ]
     },
     "metadata": {
      "needs_background": "light"
     },
     "output_type": "display_data"
    }
   ],
   "source": [
    "CoefViz(nb_grid)"
   ]
  },
  {
   "cell_type": "markdown",
   "metadata": {},
   "source": [
    "---\n",
    "\n",
    "We can also visualize our gridsearch results with a heatmap to see which parameters return the best fit.\n",
    "\n",
    "---"
   ]
  },
  {
   "cell_type": "code",
   "execution_count": 15,
   "metadata": {},
   "outputs": [
    {
     "data": {
      "text/plain": [
       "<matplotlib.colorbar.Colorbar at 0x7f9b04570fd0>"
      ]
     },
     "execution_count": 15,
     "metadata": {},
     "output_type": "execute_result"
    },
    {
     "data": {
      "image/png": "[encoded data removed]",
      "text/plain": [
       "<Figure size 1080x576 with 2 Axes>"
      ]
     },
     "metadata": {
      "needs_background": "light"
     },
     "output_type": "display_data"
    }
   ],
   "source": [
    "gsHeatmap(nb_grid, nb_param_grid, 'clf__alpha') "
   ]
  },
  {
   "cell_type": "markdown",
   "metadata": {},
   "source": [
    "---\n",
    "Finally, let's fit the model to the test data.\n",
    "\n",
    "---"
   ]
  },
  {
   "cell_type": "code",
   "execution_count": 16,
   "metadata": {},
   "outputs": [],
   "source": [
    "from sklearn.metrics import confusion_matrix\n",
    "from sklearn.metrics import classification_report"
   ]
  },
  {
   "cell_type": "code",
   "execution_count": 17,
   "metadata": {},
   "outputs": [
    {
     "name": "stdout",
     "output_type": "stream",
     "text": [
      "Test score: 0.89\n",
      "[[13551  1061]\n",
      " [ 2318 12670]]\n",
      "              precision    recall  f1-score   support\n",
      "\n",
      "           0       0.85      0.93      0.89     14612\n",
      "           1       0.92      0.85      0.88     14988\n",
      "\n",
      "    accuracy                           0.89     29600\n",
      "   macro avg       0.89      0.89      0.89     29600\n",
      "weighted avg       0.89      0.89      0.89     29600\n",
      "\n"
     ]
    }
   ],
   "source": [
    "ModelResults(nb_grid, X_test, y_test)"
   ]
  },
  {
   "cell_type": "markdown",
   "metadata": {},
   "source": [
    "---\n",
    "The fitted model returned a test score of 89%, with 1061 false positives and 2318 false negatives.\n",
    "\n",
    "We'll also fit the training data to a logistic regression algorithm, again utilizing a grid search and pipeline to determine the best model parameters.\n",
    "\n",
    "---"
   ]
  },
  {
   "cell_type": "code",
   "execution_count": 18,
   "metadata": {},
   "outputs": [],
   "source": [
    "from sklearn.linear_model import LogisticRegression"
   ]
  },
  {
   "cell_type": "code",
   "execution_count": 54,
   "metadata": {},
   "outputs": [],
   "source": [
    "lr_pipeline = Pipeline([('vect', CountVectorizer(tokenizer = LemmaTokenizer(), \n",
    "                             min_df = 5, stop_words = stop_words)), \n",
    "                        ('tfidf', TfidfTransformer()),\n",
    "                        ('clf', LogisticRegression(max_iter = 1000))\n",
    "                       ])\n",
    "\n",
    "lr_param_grid = {\n",
    "    \"clf__C\": [0.01, 0.1, 1, 10, 100],\n",
    "    \"vect__ngram_range\": [(1, 1), (2, 2), (3, 3)]}\n",
    "\n",
    "lr_grid = GridSearchCV(lr_pipeline, lr_param_grid, cv = 5, n_jobs=-1)"
   ]
  },
  {
   "cell_type": "code",
   "execution_count": 55,
   "metadata": {},
   "outputs": [
    {
     "name": "stderr",
     "output_type": "stream",
     "text": [
      "/opt/anaconda3/lib/python3.7/site-packages/sklearn/feature_extraction/text.py:386: UserWarning: Your stop_words may be inconsistent with your preprocessing. Tokenizing the stop words generated tokens ['ha', 'le', 'wa'] not in stop_words.\n",
      "  'stop_words.' % sorted(inconsistent))\n"
     ]
    },
    {
     "name": "stdout",
     "output_type": "stream",
     "text": [
      "Best estimator:\n",
      "Pipeline(steps=[('vect',\n",
      "                 CountVectorizer(min_df=5,\n",
      "                                 stop_words=frozenset({'a', 'about', 'above',\n",
      "                                                       'across', 'after',\n",
      "                                                       'afterwards', 'again',\n",
      "                                                       'against', 'all',\n",
      "                                                       'almost', 'alone',\n",
      "                                                       'along', 'already',\n",
      "                                                       'also', 'although',\n",
      "                                                       'always', 'am', 'among',\n",
      "                                                       'amongst', 'amoungst',\n",
      "                                                       'amount', 'an', 'and',\n",
      "                                                       'another', 'any',\n",
      "                                                       'anyhow', 'anyone',\n",
      "                                                       'anything', 'anyway',\n",
      "                                                       'anywhere', ...}),\n",
      "                                 tokenizer=<funs_do_classification.LemmaTokenizer object at 0x7f9b045d2610>)),\n",
      "                ('tfidf', TfidfTransformer()),\n",
      "                ('clf', LogisticRegression(C=10, max_iter=1000))])\n",
      "\n",
      "Logistic regression step:\n",
      "LogisticRegression(C=10, max_iter=1000)\n",
      "\n",
      "Best cross-validation score: 0.95\n",
      "\n",
      "Best parameters:\n",
      "{'clf__C': 10, 'vect__ngram_range': (1, 1)}\n"
     ]
    },
    {
     "data": {
      "text/html": [
       "<div>\n",
       "<style scoped>\n",
       "    .dataframe tbody tr th:only-of-type {\n",
       "        vertical-align: middle;\n",
       "    }\n",
       "\n",
       "    .dataframe tbody tr th {\n",
       "        vertical-align: top;\n",
       "    }\n",
       "\n",
       "    .dataframe thead th {\n",
       "        text-align: right;\n",
       "    }\n",
       "</style>\n",
       "<table border=\"1\" class=\"dataframe\">\n",
       "  <thead>\n",
       "    <tr style=\"text-align: right;\">\n",
       "      <th></th>\n",
       "      <th>mean_fit_time</th>\n",
       "      <th>std_fit_time</th>\n",
       "      <th>mean_score_time</th>\n",
       "      <th>std_score_time</th>\n",
       "      <th>param_clf__C</th>\n",
       "      <th>param_vect__ngram_range</th>\n",
       "      <th>params</th>\n",
       "      <th>split0_test_score</th>\n",
       "      <th>split1_test_score</th>\n",
       "      <th>split2_test_score</th>\n",
       "      <th>split3_test_score</th>\n",
       "      <th>split4_test_score</th>\n",
       "      <th>mean_test_score</th>\n",
       "      <th>std_test_score</th>\n",
       "      <th>rank_test_score</th>\n",
       "    </tr>\n",
       "  </thead>\n",
       "  <tbody>\n",
       "    <tr>\n",
       "      <th>0</th>\n",
       "      <td>26.819059</td>\n",
       "      <td>0.781283</td>\n",
       "      <td>6.501444</td>\n",
       "      <td>0.154049</td>\n",
       "      <td>0.01</td>\n",
       "      <td>(1, 1)</td>\n",
       "      <td>{'clf__C': 0.01, 'vect__ngram_range': (1, 1)}</td>\n",
       "      <td>0.942594</td>\n",
       "      <td>0.945124</td>\n",
       "      <td>0.942735</td>\n",
       "      <td>0.941070</td>\n",
       "      <td>0.939767</td>\n",
       "      <td>0.942258</td>\n",
       "      <td>0.001798</td>\n",
       "      <td>5</td>\n",
       "    </tr>\n",
       "    <tr>\n",
       "      <th>1</th>\n",
       "      <td>26.686543</td>\n",
       "      <td>0.272964</td>\n",
       "      <td>6.551151</td>\n",
       "      <td>0.204957</td>\n",
       "      <td>0.01</td>\n",
       "      <td>(2, 2)</td>\n",
       "      <td>{'clf__C': 0.01, 'vect__ngram_range': (2, 2)}</td>\n",
       "      <td>0.858043</td>\n",
       "      <td>0.861869</td>\n",
       "      <td>0.853544</td>\n",
       "      <td>0.854557</td>\n",
       "      <td>0.862593</td>\n",
       "      <td>0.858121</td>\n",
       "      <td>0.003680</td>\n",
       "      <td>10</td>\n",
       "    </tr>\n",
       "    <tr>\n",
       "      <th>2</th>\n",
       "      <td>27.764230</td>\n",
       "      <td>0.577304</td>\n",
       "      <td>7.044224</td>\n",
       "      <td>0.191900</td>\n",
       "      <td>0.01</td>\n",
       "      <td>(3, 3)</td>\n",
       "      <td>{'clf__C': 0.01, 'vect__ngram_range': (3, 3)}</td>\n",
       "      <td>0.561387</td>\n",
       "      <td>0.562296</td>\n",
       "      <td>0.559907</td>\n",
       "      <td>0.561572</td>\n",
       "      <td>0.562152</td>\n",
       "      <td>0.561463</td>\n",
       "      <td>0.000849</td>\n",
       "      <td>15</td>\n",
       "    </tr>\n",
       "    <tr>\n",
       "      <th>3</th>\n",
       "      <td>27.219367</td>\n",
       "      <td>0.250120</td>\n",
       "      <td>6.672378</td>\n",
       "      <td>0.329680</td>\n",
       "      <td>0.1</td>\n",
       "      <td>(1, 1)</td>\n",
       "      <td>{'clf__C': 0.1, 'vect__ngram_range': (1, 1)}</td>\n",
       "      <td>0.946359</td>\n",
       "      <td>0.949613</td>\n",
       "      <td>0.946427</td>\n",
       "      <td>0.946934</td>\n",
       "      <td>0.946862</td>\n",
       "      <td>0.947239</td>\n",
       "      <td>0.001209</td>\n",
       "      <td>4</td>\n",
       "    </tr>\n",
       "    <tr>\n",
       "      <th>4</th>\n",
       "      <td>28.322108</td>\n",
       "      <td>0.160978</td>\n",
       "      <td>6.671528</td>\n",
       "      <td>0.057659</td>\n",
       "      <td>0.1</td>\n",
       "      <td>(2, 2)</td>\n",
       "      <td>{'clf__C': 0.1, 'vect__ngram_range': (2, 2)}</td>\n",
       "      <td>0.878819</td>\n",
       "      <td>0.879751</td>\n",
       "      <td>0.880403</td>\n",
       "      <td>0.880837</td>\n",
       "      <td>0.879244</td>\n",
       "      <td>0.879811</td>\n",
       "      <td>0.000736</td>\n",
       "      <td>8</td>\n",
       "    </tr>\n",
       "  </tbody>\n",
       "</table>\n",
       "</div>"
      ],
      "text/plain": [
       "   mean_fit_time  std_fit_time  mean_score_time  std_score_time param_clf__C  \\\n",
       "0      26.819059      0.781283         6.501444        0.154049         0.01   \n",
       "1      26.686543      0.272964         6.551151        0.204957         0.01   \n",
       "2      27.764230      0.577304         7.044224        0.191900         0.01   \n",
       "3      27.219367      0.250120         6.672378        0.329680          0.1   \n",
       "4      28.322108      0.160978         6.671528        0.057659          0.1   \n",
       "\n",
       "  param_vect__ngram_range                                         params  \\\n",
       "0                  (1, 1)  {'clf__C': 0.01, 'vect__ngram_range': (1, 1)}   \n",
       "1                  (2, 2)  {'clf__C': 0.01, 'vect__ngram_range': (2, 2)}   \n",
       "2                  (3, 3)  {'clf__C': 0.01, 'vect__ngram_range': (3, 3)}   \n",
       "3                  (1, 1)   {'clf__C': 0.1, 'vect__ngram_range': (1, 1)}   \n",
       "4                  (2, 2)   {'clf__C': 0.1, 'vect__ngram_range': (2, 2)}   \n",
       "\n",
       "   split0_test_score  split1_test_score  split2_test_score  split3_test_score  \\\n",
       "0           0.942594           0.945124           0.942735           0.941070   \n",
       "1           0.858043           0.861869           0.853544           0.854557   \n",
       "2           0.561387           0.562296           0.559907           0.561572   \n",
       "3           0.946359           0.949613           0.946427           0.946934   \n",
       "4           0.878819           0.879751           0.880403           0.880837   \n",
       "\n",
       "   split4_test_score  mean_test_score  std_test_score  rank_test_score  \n",
       "0           0.939767         0.942258        0.001798                5  \n",
       "1           0.862593         0.858121        0.003680               10  \n",
       "2           0.562152         0.561463        0.000849               15  \n",
       "3           0.946862         0.947239        0.001209                4  \n",
       "4           0.879244         0.879811        0.000736                8  "
      ]
     },
     "metadata": {},
     "output_type": "display_data"
    }
   ],
   "source": [
    "TrainModel(lr_grid, X_train, y_train)"
   ]
  },
  {
   "cell_type": "markdown",
   "metadata": {},
   "source": [
    "---\n",
    "From the above training results, we can see that the best cv score returned is 95%, using paramters C=10 and 1 ngram.\n",
    "\n",
    "\n",
    "Again, we'll also visualize the top 40 model coefficients and their associated text. \n",
    "\n",
    "---"
   ]
  },
  {
   "cell_type": "code",
   "execution_count": 21,
   "metadata": {},
   "outputs": [
    {
     "data": {
      "image/png": "[encoded data removed]",
      "text/plain": [
       "<Figure size 1080x360 with 1 Axes>"
      ]
     },
     "metadata": {
      "needs_background": "light"
     },
     "output_type": "display_data"
    }
   ],
   "source": [
    "CoefViz(lr_grid)"
   ]
  },
  {
   "cell_type": "markdown",
   "metadata": {},
   "source": [
    "---\n",
    "And again, we'll also visualize our grid search results with a heatmap to better see which parameters return the best fit.\n",
    "\n",
    "---"
   ]
  },
  {
   "cell_type": "code",
   "execution_count": 22,
   "metadata": {},
   "outputs": [
    {
     "data": {
      "text/plain": [
       "<matplotlib.colorbar.Colorbar at 0x7f9b0aa42e10>"
      ]
     },
     "execution_count": 22,
     "metadata": {},
     "output_type": "execute_result"
    },
    {
     "data": {
      "image/png": "[encoded data removed]",
      "text/plain": [
       "<Figure size 1080x576 with 2 Axes>"
      ]
     },
     "metadata": {
      "needs_background": "light"
     },
     "output_type": "display_data"
    }
   ],
   "source": [
    "gsHeatmap(lr_grid, lr_param_grid, 'clf__C') "
   ]
  },
  {
   "cell_type": "markdown",
   "metadata": {},
   "source": [
    "---\n",
    "Finally, let's fit the model to the test data.\n",
    "\n",
    "---"
   ]
  },
  {
   "cell_type": "code",
   "execution_count": 24,
   "metadata": {},
   "outputs": [
    {
     "name": "stdout",
     "output_type": "stream",
     "text": [
      "Test score: 0.95\n",
      "[[13926   686]\n",
      " [  698 14290]]\n",
      "              precision    recall  f1-score   support\n",
      "\n",
      "           0       0.95      0.95      0.95     14612\n",
      "           1       0.95      0.95      0.95     14988\n",
      "\n",
      "    accuracy                           0.95     29600\n",
      "   macro avg       0.95      0.95      0.95     29600\n",
      "weighted avg       0.95      0.95      0.95     29600\n",
      "\n"
     ]
    }
   ],
   "source": [
    "ModelResults(lr_grid, X_test, y_test)"
   ]
  },
  {
   "cell_type": "markdown",
   "metadata": {},
   "source": [
    "---\n",
    "The fitted model returned a test score of 95%, with 686 false positives and 698 false negatives.\n",
    "\n",
    "### Linear SVC Model\n",
    "---"
   ]
  },
  {
   "cell_type": "code",
   "execution_count": 23,
   "metadata": {},
   "outputs": [],
   "source": [
    "from sklearn.svm import LinearSVC"
   ]
  },
  {
   "cell_type": "code",
   "execution_count": 57,
   "metadata": {},
   "outputs": [],
   "source": [
    "svc_pipeline = Pipeline([('vect', CountVectorizer(tokenizer = LemmaTokenizer(), \n",
    "                                                 min_df = 5, stop_words = stop_words)),\n",
    "                     ('tfidf', TfidfTransformer()),\n",
    "                     ('clf', LinearSVC()),\n",
    "                    ])\n",
    "\n",
    "svc_param_grid = {\n",
    "    \"clf__C\": [0.001, 0.01, 0.1, 1, 10],\n",
    "    \"vect__ngram_range\": [(1, 1), (2, 2), (3, 3)]}\n",
    "\n",
    "svc_grid = GridSearchCV(svc_pipeline, svc_param_grid, cv = 5, n_jobs=-1)"
   ]
  },
  {
   "cell_type": "code",
   "execution_count": 58,
   "metadata": {},
   "outputs": [
    {
     "name": "stderr",
     "output_type": "stream",
     "text": [
      "/opt/anaconda3/lib/python3.7/site-packages/sklearn/feature_extraction/text.py:386: UserWarning: Your stop_words may be inconsistent with your preprocessing. Tokenizing the stop words generated tokens ['ha', 'le', 'wa'] not in stop_words.\n",
      "  'stop_words.' % sorted(inconsistent))\n"
     ]
    },
    {
     "name": "stdout",
     "output_type": "stream",
     "text": [
      "Best estimator:\n",
      "Pipeline(steps=[('vect',\n",
      "                 CountVectorizer(min_df=5,\n",
      "                                 stop_words=frozenset({'a', 'about', 'above',\n",
      "                                                       'across', 'after',\n",
      "                                                       'afterwards', 'again',\n",
      "                                                       'against', 'all',\n",
      "                                                       'almost', 'alone',\n",
      "                                                       'along', 'already',\n",
      "                                                       'also', 'although',\n",
      "                                                       'always', 'am', 'among',\n",
      "                                                       'amongst', 'amoungst',\n",
      "                                                       'amount', 'an', 'and',\n",
      "                                                       'another', 'any',\n",
      "                                                       'anyhow', 'anyone',\n",
      "                                                       'anything', 'anyway',\n",
      "                                                       'anywhere', ...}),\n",
      "                                 tokenizer=<funs_do_classification.LemmaTokenizer object at 0x7f9b09aee210>)),\n",
      "                ('tfidf', TfidfTransformer()), ('clf', LinearSVC(C=0.1))])\n",
      "\n",
      "Logistic regression step:\n",
      "LinearSVC(C=0.1)\n",
      "\n",
      "Best cross-validation score: 0.95\n",
      "\n",
      "Best parameters:\n",
      "{'clf__C': 0.1, 'vect__ngram_range': (1, 1)}\n"
     ]
    },
    {
     "data": {
      "text/html": [
       "<div>\n",
       "<style scoped>\n",
       "    .dataframe tbody tr th:only-of-type {\n",
       "        vertical-align: middle;\n",
       "    }\n",
       "\n",
       "    .dataframe tbody tr th {\n",
       "        vertical-align: top;\n",
       "    }\n",
       "\n",
       "    .dataframe thead th {\n",
       "        text-align: right;\n",
       "    }\n",
       "</style>\n",
       "<table border=\"1\" class=\"dataframe\">\n",
       "  <thead>\n",
       "    <tr style=\"text-align: right;\">\n",
       "      <th></th>\n",
       "      <th>mean_fit_time</th>\n",
       "      <th>std_fit_time</th>\n",
       "      <th>mean_score_time</th>\n",
       "      <th>std_score_time</th>\n",
       "      <th>param_clf__C</th>\n",
       "      <th>param_vect__ngram_range</th>\n",
       "      <th>params</th>\n",
       "      <th>split0_test_score</th>\n",
       "      <th>split1_test_score</th>\n",
       "      <th>split2_test_score</th>\n",
       "      <th>split3_test_score</th>\n",
       "      <th>split4_test_score</th>\n",
       "      <th>mean_test_score</th>\n",
       "      <th>std_test_score</th>\n",
       "      <th>rank_test_score</th>\n",
       "    </tr>\n",
       "  </thead>\n",
       "  <tbody>\n",
       "    <tr>\n",
       "      <th>0</th>\n",
       "      <td>24.934362</td>\n",
       "      <td>0.368049</td>\n",
       "      <td>6.058807</td>\n",
       "      <td>0.115450</td>\n",
       "      <td>0.001</td>\n",
       "      <td>(1, 1)</td>\n",
       "      <td>{'clf__C': 0.001, 'vect__ngram_range': (1, 1)}</td>\n",
       "      <td>0.941871</td>\n",
       "      <td>0.945486</td>\n",
       "      <td>0.942228</td>\n",
       "      <td>0.941287</td>\n",
       "      <td>0.938971</td>\n",
       "      <td>0.941969</td>\n",
       "      <td>0.002093</td>\n",
       "      <td>5</td>\n",
       "    </tr>\n",
       "    <tr>\n",
       "      <th>1</th>\n",
       "      <td>25.249168</td>\n",
       "      <td>0.135409</td>\n",
       "      <td>6.199871</td>\n",
       "      <td>0.049391</td>\n",
       "      <td>0.001</td>\n",
       "      <td>(2, 2)</td>\n",
       "      <td>{'clf__C': 0.001, 'vect__ngram_range': (2, 2)}</td>\n",
       "      <td>0.847039</td>\n",
       "      <td>0.849779</td>\n",
       "      <td>0.841019</td>\n",
       "      <td>0.840151</td>\n",
       "      <td>0.850576</td>\n",
       "      <td>0.845713</td>\n",
       "      <td>0.004357</td>\n",
       "      <td>10</td>\n",
       "    </tr>\n",
       "    <tr>\n",
       "      <th>2</th>\n",
       "      <td>25.331824</td>\n",
       "      <td>0.101245</td>\n",
       "      <td>6.119088</td>\n",
       "      <td>0.061446</td>\n",
       "      <td>0.001</td>\n",
       "      <td>(3, 3)</td>\n",
       "      <td>{'clf__C': 0.001, 'vect__ngram_range': (3, 3)}</td>\n",
       "      <td>0.553858</td>\n",
       "      <td>0.554405</td>\n",
       "      <td>0.552016</td>\n",
       "      <td>0.553464</td>\n",
       "      <td>0.555564</td>\n",
       "      <td>0.553862</td>\n",
       "      <td>0.001162</td>\n",
       "      <td>15</td>\n",
       "    </tr>\n",
       "    <tr>\n",
       "      <th>3</th>\n",
       "      <td>24.818905</td>\n",
       "      <td>0.118222</td>\n",
       "      <td>6.217639</td>\n",
       "      <td>0.079277</td>\n",
       "      <td>0.01</td>\n",
       "      <td>(1, 1)</td>\n",
       "      <td>{'clf__C': 0.01, 'vect__ngram_range': (1, 1)}</td>\n",
       "      <td>0.946214</td>\n",
       "      <td>0.950337</td>\n",
       "      <td>0.945631</td>\n",
       "      <td>0.947513</td>\n",
       "      <td>0.946355</td>\n",
       "      <td>0.947210</td>\n",
       "      <td>0.001678</td>\n",
       "      <td>3</td>\n",
       "    </tr>\n",
       "    <tr>\n",
       "      <th>4</th>\n",
       "      <td>26.921247</td>\n",
       "      <td>0.446032</td>\n",
       "      <td>6.334717</td>\n",
       "      <td>0.036321</td>\n",
       "      <td>0.01</td>\n",
       "      <td>(2, 2)</td>\n",
       "      <td>{'clf__C': 0.01, 'vect__ngram_range': (2, 2)}</td>\n",
       "      <td>0.878457</td>\n",
       "      <td>0.879027</td>\n",
       "      <td>0.880258</td>\n",
       "      <td>0.880547</td>\n",
       "      <td>0.877651</td>\n",
       "      <td>0.879188</td>\n",
       "      <td>0.001088</td>\n",
       "      <td>8</td>\n",
       "    </tr>\n",
       "  </tbody>\n",
       "</table>\n",
       "</div>"
      ],
      "text/plain": [
       "   mean_fit_time  std_fit_time  mean_score_time  std_score_time param_clf__C  \\\n",
       "0      24.934362      0.368049         6.058807        0.115450        0.001   \n",
       "1      25.249168      0.135409         6.199871        0.049391        0.001   \n",
       "2      25.331824      0.101245         6.119088        0.061446        0.001   \n",
       "3      24.818905      0.118222         6.217639        0.079277         0.01   \n",
       "4      26.921247      0.446032         6.334717        0.036321         0.01   \n",
       "\n",
       "  param_vect__ngram_range                                          params  \\\n",
       "0                  (1, 1)  {'clf__C': 0.001, 'vect__ngram_range': (1, 1)}   \n",
       "1                  (2, 2)  {'clf__C': 0.001, 'vect__ngram_range': (2, 2)}   \n",
       "2                  (3, 3)  {'clf__C': 0.001, 'vect__ngram_range': (3, 3)}   \n",
       "3                  (1, 1)   {'clf__C': 0.01, 'vect__ngram_range': (1, 1)}   \n",
       "4                  (2, 2)   {'clf__C': 0.01, 'vect__ngram_range': (2, 2)}   \n",
       "\n",
       "   split0_test_score  split1_test_score  split2_test_score  split3_test_score  \\\n",
       "0           0.941871           0.945486           0.942228           0.941287   \n",
       "1           0.847039           0.849779           0.841019           0.840151   \n",
       "2           0.553858           0.554405           0.552016           0.553464   \n",
       "3           0.946214           0.950337           0.945631           0.947513   \n",
       "4           0.878457           0.879027           0.880258           0.880547   \n",
       "\n",
       "   split4_test_score  mean_test_score  std_test_score  rank_test_score  \n",
       "0           0.938971         0.941969        0.002093                5  \n",
       "1           0.850576         0.845713        0.004357               10  \n",
       "2           0.555564         0.553862        0.001162               15  \n",
       "3           0.946355         0.947210        0.001678                3  \n",
       "4           0.877651         0.879188        0.001088                8  "
      ]
     },
     "metadata": {},
     "output_type": "display_data"
    }
   ],
   "source": [
    "TrainModel(svc_grid, X_train, y_train)"
   ]
  },
  {
   "cell_type": "markdown",
   "metadata": {},
   "source": [
    "---\n",
    "From the above training results, we can see the cv score returned is 95% using a C parameter of .1 and 1 ngram.\n",
    "\n",
    "---"
   ]
  },
  {
   "cell_type": "code",
   "execution_count": 27,
   "metadata": {},
   "outputs": [
    {
     "data": {
      "image/png": "[encoded data removed]",
      "text/plain": [
       "<Figure size 1080x360 with 1 Axes>"
      ]
     },
     "metadata": {
      "needs_background": "light"
     },
     "output_type": "display_data"
    }
   ],
   "source": [
    "CoefViz(svc_grid)"
   ]
  },
  {
   "cell_type": "code",
   "execution_count": 28,
   "metadata": {},
   "outputs": [
    {
     "data": {
      "text/plain": [
       "<matplotlib.colorbar.Colorbar at 0x7f9b103e3690>"
      ]
     },
     "execution_count": 28,
     "metadata": {},
     "output_type": "execute_result"
    },
    {
     "data": {
      "image/png": "[encoded data removed]",
      "text/plain": [
       "<Figure size 1080x576 with 2 Axes>"
      ]
     },
     "metadata": {
      "needs_background": "light"
     },
     "output_type": "display_data"
    }
   ],
   "source": [
    "gsHeatmap(svc_grid, lr_param_grid, 'clf__C') "
   ]
  },
  {
   "cell_type": "markdown",
   "metadata": {},
   "source": [
    "---\n",
    "Finally, let's fit the model to the test data.\n",
    "\n",
    "---"
   ]
  },
  {
   "cell_type": "code",
   "execution_count": 29,
   "metadata": {},
   "outputs": [
    {
     "name": "stdout",
     "output_type": "stream",
     "text": [
      "Test score: 0.95\n",
      "[[14050   562]\n",
      " [  835 14153]]\n",
      "              precision    recall  f1-score   support\n",
      "\n",
      "           0       0.94      0.96      0.95     14612\n",
      "           1       0.96      0.94      0.95     14988\n",
      "\n",
      "    accuracy                           0.95     29600\n",
      "   macro avg       0.95      0.95      0.95     29600\n",
      "weighted avg       0.95      0.95      0.95     29600\n",
      "\n"
     ]
    }
   ],
   "source": [
    "ModelResults(svc_grid, X_test, y_test)"
   ]
  },
  {
   "cell_type": "markdown",
   "metadata": {},
   "source": [
    "---\n",
    "The fitted model returned a test score of 95%, with 562 false positives and 835 false negatives.\n",
    "\n",
    "Now we'll also fit the training data to a Random Forest ensemble learning (bagging) algorithm, again utilizing a grid search and pipeline to determine the best model parameters.\n",
    "\n",
    "### Random Forest Model\n",
    "\n",
    "---"
   ]
  },
  {
   "cell_type": "code",
   "execution_count": 30,
   "metadata": {},
   "outputs": [],
   "source": [
    "from sklearn.ensemble import RandomForestClassifier"
   ]
  },
  {
   "cell_type": "code",
   "execution_count": 60,
   "metadata": {},
   "outputs": [],
   "source": [
    "rf_pipeline = Pipeline([('vect', CountVectorizer(tokenizer = LemmaTokenizer(), \n",
    "                                                 min_df = 5, stop_words = stop_words)),\n",
    "                     ('tfidf', TfidfTransformer()),\n",
    "                     ('clf', RandomForestClassifier()),\n",
    "                    ])\n",
    "\n",
    "rf_param_grid = {\n",
    "    \"clf__criterion\": ['gini', 'entropy'],\n",
    "    \"vect__ngram_range\": [(1, 1), (2, 2), (3, 3)]}\n",
    "\n",
    "rf_grid = GridSearchCV(rf_pipeline, rf_param_grid, cv = 5, n_jobs=-1,)"
   ]
  },
  {
   "cell_type": "code",
   "execution_count": 61,
   "metadata": {},
   "outputs": [
    {
     "name": "stderr",
     "output_type": "stream",
     "text": [
      "/opt/anaconda3/lib/python3.7/site-packages/sklearn/feature_extraction/text.py:386: UserWarning: Your stop_words may be inconsistent with your preprocessing. Tokenizing the stop words generated tokens ['ha', 'le', 'wa'] not in stop_words.\n",
      "  'stop_words.' % sorted(inconsistent))\n"
     ]
    },
    {
     "name": "stdout",
     "output_type": "stream",
     "text": [
      "Best estimator:\n",
      "Pipeline(steps=[('vect',\n",
      "                 CountVectorizer(min_df=5,\n",
      "                                 stop_words=frozenset({'a', 'about', 'above',\n",
      "                                                       'across', 'after',\n",
      "                                                       'afterwards', 'again',\n",
      "                                                       'against', 'all',\n",
      "                                                       'almost', 'alone',\n",
      "                                                       'along', 'already',\n",
      "                                                       'also', 'although',\n",
      "                                                       'always', 'am', 'among',\n",
      "                                                       'amongst', 'amoungst',\n",
      "                                                       'amount', 'an', 'and',\n",
      "                                                       'another', 'any',\n",
      "                                                       'anyhow', 'anyone',\n",
      "                                                       'anything', 'anyway',\n",
      "                                                       'anywhere', ...}),\n",
      "                                 tokenizer=<funs_do_classification.LemmaTokenizer object at 0x7f9b0aa9e350>)),\n",
      "                ('tfidf', TfidfTransformer()),\n",
      "                ('clf', RandomForestClassifier())])\n",
      "\n",
      "Logistic regression step:\n",
      "RandomForestClassifier()\n",
      "\n",
      "Best cross-validation score: 0.97\n",
      "\n",
      "Best parameters:\n",
      "{'clf__criterion': 'gini', 'vect__ngram_range': (1, 1)}\n"
     ]
    },
    {
     "data": {
      "text/html": [
       "<div>\n",
       "<style scoped>\n",
       "    .dataframe tbody tr th:only-of-type {\n",
       "        vertical-align: middle;\n",
       "    }\n",
       "\n",
       "    .dataframe tbody tr th {\n",
       "        vertical-align: top;\n",
       "    }\n",
       "\n",
       "    .dataframe thead th {\n",
       "        text-align: right;\n",
       "    }\n",
       "</style>\n",
       "<table border=\"1\" class=\"dataframe\">\n",
       "  <thead>\n",
       "    <tr style=\"text-align: right;\">\n",
       "      <th></th>\n",
       "      <th>mean_fit_time</th>\n",
       "      <th>std_fit_time</th>\n",
       "      <th>mean_score_time</th>\n",
       "      <th>std_score_time</th>\n",
       "      <th>param_clf__criterion</th>\n",
       "      <th>param_vect__ngram_range</th>\n",
       "      <th>params</th>\n",
       "      <th>split0_test_score</th>\n",
       "      <th>split1_test_score</th>\n",
       "      <th>split2_test_score</th>\n",
       "      <th>split3_test_score</th>\n",
       "      <th>split4_test_score</th>\n",
       "      <th>mean_test_score</th>\n",
       "      <th>std_test_score</th>\n",
       "      <th>rank_test_score</th>\n",
       "    </tr>\n",
       "  </thead>\n",
       "  <tbody>\n",
       "    <tr>\n",
       "      <th>0</th>\n",
       "      <td>77.528672</td>\n",
       "      <td>0.750348</td>\n",
       "      <td>7.069723</td>\n",
       "      <td>0.098605</td>\n",
       "      <td>gini</td>\n",
       "      <td>(1, 1)</td>\n",
       "      <td>{'clf__criterion': 'gini', 'vect__ngram_range'...</td>\n",
       "      <td>0.967642</td>\n",
       "      <td>0.967639</td>\n",
       "      <td>0.964526</td>\n",
       "      <td>0.965829</td>\n",
       "      <td>0.966264</td>\n",
       "      <td>0.966380</td>\n",
       "      <td>0.001177</td>\n",
       "      <td>1</td>\n",
       "    </tr>\n",
       "    <tr>\n",
       "      <th>1</th>\n",
       "      <td>114.339494</td>\n",
       "      <td>3.331102</td>\n",
       "      <td>12.432404</td>\n",
       "      <td>0.176408</td>\n",
       "      <td>gini</td>\n",
       "      <td>(2, 2)</td>\n",
       "      <td>{'clf__criterion': 'gini', 'vect__ngram_range'...</td>\n",
       "      <td>0.891125</td>\n",
       "      <td>0.893651</td>\n",
       "      <td>0.895823</td>\n",
       "      <td>0.897343</td>\n",
       "      <td>0.892131</td>\n",
       "      <td>0.894014</td>\n",
       "      <td>0.002297</td>\n",
       "      <td>4</td>\n",
       "    </tr>\n",
       "    <tr>\n",
       "      <th>2</th>\n",
       "      <td>84.831612</td>\n",
       "      <td>1.406361</td>\n",
       "      <td>15.116535</td>\n",
       "      <td>0.198819</td>\n",
       "      <td>gini</td>\n",
       "      <td>(3, 3)</td>\n",
       "      <td>{'clf__criterion': 'gini', 'vect__ngram_range'...</td>\n",
       "      <td>0.580208</td>\n",
       "      <td>0.583653</td>\n",
       "      <td>0.578658</td>\n",
       "      <td>0.580106</td>\n",
       "      <td>0.580033</td>\n",
       "      <td>0.580532</td>\n",
       "      <td>0.001661</td>\n",
       "      <td>5</td>\n",
       "    </tr>\n",
       "    <tr>\n",
       "      <th>3</th>\n",
       "      <td>77.625080</td>\n",
       "      <td>2.356589</td>\n",
       "      <td>7.576056</td>\n",
       "      <td>0.095025</td>\n",
       "      <td>entropy</td>\n",
       "      <td>(1, 1)</td>\n",
       "      <td>{'clf__criterion': 'entropy', 'vect__ngram_ran...</td>\n",
       "      <td>0.966990</td>\n",
       "      <td>0.966770</td>\n",
       "      <td>0.965612</td>\n",
       "      <td>0.966046</td>\n",
       "      <td>0.965323</td>\n",
       "      <td>0.966148</td>\n",
       "      <td>0.000644</td>\n",
       "      <td>2</td>\n",
       "    </tr>\n",
       "    <tr>\n",
       "      <th>4</th>\n",
       "      <td>124.322706</td>\n",
       "      <td>2.239002</td>\n",
       "      <td>13.492870</td>\n",
       "      <td>0.366844</td>\n",
       "      <td>entropy</td>\n",
       "      <td>(2, 2)</td>\n",
       "      <td>{'clf__criterion': 'entropy', 'vect__ngram_ran...</td>\n",
       "      <td>0.891559</td>\n",
       "      <td>0.892493</td>\n",
       "      <td>0.896547</td>\n",
       "      <td>0.897126</td>\n",
       "      <td>0.892420</td>\n",
       "      <td>0.894029</td>\n",
       "      <td>0.002323</td>\n",
       "      <td>3</td>\n",
       "    </tr>\n",
       "  </tbody>\n",
       "</table>\n",
       "</div>"
      ],
      "text/plain": [
       "   mean_fit_time  std_fit_time  mean_score_time  std_score_time  \\\n",
       "0      77.528672      0.750348         7.069723        0.098605   \n",
       "1     114.339494      3.331102        12.432404        0.176408   \n",
       "2      84.831612      1.406361        15.116535        0.198819   \n",
       "3      77.625080      2.356589         7.576056        0.095025   \n",
       "4     124.322706      2.239002        13.492870        0.366844   \n",
       "\n",
       "  param_clf__criterion param_vect__ngram_range  \\\n",
       "0                 gini                  (1, 1)   \n",
       "1                 gini                  (2, 2)   \n",
       "2                 gini                  (3, 3)   \n",
       "3              entropy                  (1, 1)   \n",
       "4              entropy                  (2, 2)   \n",
       "\n",
       "                                              params  split0_test_score  \\\n",
       "0  {'clf__criterion': 'gini', 'vect__ngram_range'...           0.967642   \n",
       "1  {'clf__criterion': 'gini', 'vect__ngram_range'...           0.891125   \n",
       "2  {'clf__criterion': 'gini', 'vect__ngram_range'...           0.580208   \n",
       "3  {'clf__criterion': 'entropy', 'vect__ngram_ran...           0.966990   \n",
       "4  {'clf__criterion': 'entropy', 'vect__ngram_ran...           0.891559   \n",
       "\n",
       "   split1_test_score  split2_test_score  split3_test_score  split4_test_score  \\\n",
       "0           0.967639           0.964526           0.965829           0.966264   \n",
       "1           0.893651           0.895823           0.897343           0.892131   \n",
       "2           0.583653           0.578658           0.580106           0.580033   \n",
       "3           0.966770           0.965612           0.966046           0.965323   \n",
       "4           0.892493           0.896547           0.897126           0.892420   \n",
       "\n",
       "   mean_test_score  std_test_score  rank_test_score  \n",
       "0         0.966380        0.001177                1  \n",
       "1         0.894014        0.002297                4  \n",
       "2         0.580532        0.001661                5  \n",
       "3         0.966148        0.000644                2  \n",
       "4         0.894029        0.002323                3  "
      ]
     },
     "metadata": {},
     "output_type": "display_data"
    }
   ],
   "source": [
    "TrainModel(rf_grid, X_train, y_train)"
   ]
  },
  {
   "cell_type": "markdown",
   "metadata": {},
   "source": [
    "---\n",
    "From the above training results, we can see that the best cv score returned is 97%, using the gini and 1 ngram parameters.\n",
    "\n",
    "---"
   ]
  },
  {
   "cell_type": "code",
   "execution_count": 33,
   "metadata": {},
   "outputs": [
    {
     "data": {
      "text/plain": [
       "<matplotlib.colorbar.Colorbar at 0x7f9b0c6b5fd0>"
      ]
     },
     "execution_count": 33,
     "metadata": {},
     "output_type": "execute_result"
    },
    {
     "data": {
      "image/png": "[encoded data removed]",
      "text/plain": [
       "<Figure size 1080x576 with 2 Axes>"
      ]
     },
     "metadata": {
      "needs_background": "light"
     },
     "output_type": "display_data"
    }
   ],
   "source": [
    "gsHeatmap(rf_grid, rf_param_grid, \"clf__criterion\")"
   ]
  },
  {
   "cell_type": "code",
   "execution_count": 34,
   "metadata": {},
   "outputs": [
    {
     "name": "stdout",
     "output_type": "stream",
     "text": [
      "Test score: 0.97\n",
      "[[14377   235]\n",
      " [  602 14386]]\n",
      "              precision    recall  f1-score   support\n",
      "\n",
      "           0       0.96      0.98      0.97     14612\n",
      "           1       0.98      0.96      0.97     14988\n",
      "\n",
      "    accuracy                           0.97     29600\n",
      "   macro avg       0.97      0.97      0.97     29600\n",
      "weighted avg       0.97      0.97      0.97     29600\n",
      "\n"
     ]
    }
   ],
   "source": [
    "ModelResults(rf_grid, X_test, y_test)"
   ]
  },
  {
   "cell_type": "markdown",
   "metadata": {},
   "source": [
    "---\n",
    "The fitted model returned a test score of 97%, with 235 false positives and 602 false negatives.\n",
    "\n",
    "Now we'll also fit the training data to a XGB ensemble learning (boosting) algorithm, again utilizing a grid search and pipeline to determine the best model parameters.\n",
    "\n",
    "### XGBoost Model\n",
    "---"
   ]
  },
  {
   "cell_type": "code",
   "execution_count": 35,
   "metadata": {},
   "outputs": [],
   "source": [
    "import xgboost as xgb"
   ]
  },
  {
   "cell_type": "code",
   "execution_count": 36,
   "metadata": {},
   "outputs": [],
   "source": [
    "xgb_pipeline = Pipeline([('vect', CountVectorizer(tokenizer = LemmaTokenizer(), \n",
    "                                                 min_df = 5, stop_words = stop_words)),\n",
    "                     ('tfidf', TfidfTransformer()),\n",
    "                     ('clf', xgb.XGBClassifier()),\n",
    "                    ])\n",
    "\n",
    "xgb_param_grid = {\n",
    "    \"clf__subsample\": [0.7, 0.8, 0.9],\n",
    "    \"vect__ngram_range\": [(1, 1), (2, 2), (3, 3)]}\n",
    "\n",
    "xgb_grid = GridSearchCV(xgb_pipeline, xgb_param_grid, cv = 5, n_jobs=-1)"
   ]
  },
  {
   "cell_type": "code",
   "execution_count": 37,
   "metadata": {},
   "outputs": [
    {
     "name": "stderr",
     "output_type": "stream",
     "text": [
      "/opt/anaconda3/lib/python3.7/site-packages/sklearn/feature_extraction/text.py:386: UserWarning: Your stop_words may be inconsistent with your preprocessing. Tokenizing the stop words generated tokens ['ha', 'le', 'wa'] not in stop_words.\n",
      "  'stop_words.' % sorted(inconsistent))\n",
      "/opt/anaconda3/lib/python3.7/site-packages/xgboost/sklearn.py:892: UserWarning: The use of label encoder in XGBClassifier is deprecated and will be removed in a future release. To remove this warning, do the following: 1) Pass option use_label_encoder=False when constructing XGBClassifier object; and 2) Encode your labels (y) as integers starting with 0, i.e. 0, 1, 2, ..., [num_class - 1].\n",
      "  warnings.warn(label_encoder_deprecation_msg, UserWarning)\n"
     ]
    },
    {
     "name": "stdout",
     "output_type": "stream",
     "text": [
      "[15:30:56] WARNING: /Users/travis/build/dmlc/xgboost/src/learner.cc:1061: Starting in XGBoost 1.3.0, the default evaluation metric used with the objective 'binary:logistic' was changed from 'error' to 'logloss'. Explicitly set eval_metric if you'd like to restore the old behavior.\n",
      "Best estimator:\n",
      "Pipeline(steps=[('vect',\n",
      "                 CountVectorizer(min_df=5,\n",
      "                                 stop_words=frozenset({'a', 'about', 'above',\n",
      "                                                       'across', 'after',\n",
      "                                                       'afterwards', 'again',\n",
      "                                                       'against', 'all',\n",
      "                                                       'almost', 'alone',\n",
      "                                                       'along', 'already',\n",
      "                                                       'also', 'although',\n",
      "                                                       'always', 'am', 'among',\n",
      "                                                       'amongst', 'amoungst',\n",
      "                                                       'amount', 'an', 'and',\n",
      "                                                       'another', 'any',\n",
      "                                                       'anyhow', 'anyone',\n",
      "                                                       'anything', 'anyway',\n",
      "                                                       'anywhere', ...}),\n",
      "                                 tokenizer=<funs_do...\n",
      "                               colsample_bytree=1, gamma=0, gpu_id=-1,\n",
      "                               importance_type='gain',\n",
      "                               interaction_constraints='',\n",
      "                               learning_rate=0.300000012, max_delta_step=0,\n",
      "                               max_depth=6, min_child_weight=1, missing=nan,\n",
      "                               monotone_constraints='()', n_estimators=100,\n",
      "                               n_jobs=4, num_parallel_tree=1, random_state=0,\n",
      "                               reg_alpha=0, reg_lambda=1, scale_pos_weight=1,\n",
      "                               subsample=0.9, tree_method='exact',\n",
      "                               validate_parameters=1, verbosity=None))])\n",
      "\n",
      "Logistic regression step:\n",
      "XGBClassifier(base_score=0.5, booster='gbtree', colsample_bylevel=1,\n",
      "              colsample_bynode=1, colsample_bytree=1, gamma=0, gpu_id=-1,\n",
      "              importance_type='gain', interaction_constraints='',\n",
      "              learning_rate=0.300000012, max_delta_step=0, max_depth=6,\n",
      "              min_child_weight=1, missing=nan, monotone_constraints='()',\n",
      "              n_estimators=100, n_jobs=4, num_parallel_tree=1, random_state=0,\n",
      "              reg_alpha=0, reg_lambda=1, scale_pos_weight=1, subsample=0.9,\n",
      "              tree_method='exact', validate_parameters=1, verbosity=None)\n",
      "\n",
      "Best cross-validation score: 0.95\n",
      "\n",
      "Best parameters:\n",
      "{'clf__subsample': 0.9, 'vect__ngram_range': (1, 1)}\n"
     ]
    },
    {
     "data": {
      "text/html": [
       "<div>\n",
       "<style scoped>\n",
       "    .dataframe tbody tr th:only-of-type {\n",
       "        vertical-align: middle;\n",
       "    }\n",
       "\n",
       "    .dataframe tbody tr th {\n",
       "        vertical-align: top;\n",
       "    }\n",
       "\n",
       "    .dataframe thead th {\n",
       "        text-align: right;\n",
       "    }\n",
       "</style>\n",
       "<table border=\"1\" class=\"dataframe\">\n",
       "  <thead>\n",
       "    <tr style=\"text-align: right;\">\n",
       "      <th></th>\n",
       "      <th>mean_fit_time</th>\n",
       "      <th>std_fit_time</th>\n",
       "      <th>mean_score_time</th>\n",
       "      <th>std_score_time</th>\n",
       "      <th>param_clf__subsample</th>\n",
       "      <th>param_vect__ngram_range</th>\n",
       "      <th>params</th>\n",
       "      <th>split0_test_score</th>\n",
       "      <th>split1_test_score</th>\n",
       "      <th>split2_test_score</th>\n",
       "      <th>split3_test_score</th>\n",
       "      <th>split4_test_score</th>\n",
       "      <th>mean_test_score</th>\n",
       "      <th>std_test_score</th>\n",
       "      <th>rank_test_score</th>\n",
       "    </tr>\n",
       "  </thead>\n",
       "  <tbody>\n",
       "    <tr>\n",
       "      <th>0</th>\n",
       "      <td>69.778272</td>\n",
       "      <td>7.617463</td>\n",
       "      <td>9.294424</td>\n",
       "      <td>1.296328</td>\n",
       "      <td>0.7</td>\n",
       "      <td>(1, 1)</td>\n",
       "      <td>{'clf__subsample': 0.7, 'vect__ngram_range': (...</td>\n",
       "      <td>0.947879</td>\n",
       "      <td>0.951061</td>\n",
       "      <td>0.947948</td>\n",
       "      <td>0.947513</td>\n",
       "      <td>0.952870</td>\n",
       "      <td>0.949454</td>\n",
       "      <td>0.002134</td>\n",
       "      <td>2</td>\n",
       "    </tr>\n",
       "    <tr>\n",
       "      <th>1</th>\n",
       "      <td>47.640635</td>\n",
       "      <td>4.917583</td>\n",
       "      <td>7.124934</td>\n",
       "      <td>0.411155</td>\n",
       "      <td>0.7</td>\n",
       "      <td>(2, 2)</td>\n",
       "      <td>{'clf__subsample': 0.7, 'vect__ngram_range': (...</td>\n",
       "      <td>0.748950</td>\n",
       "      <td>0.750670</td>\n",
       "      <td>0.747774</td>\n",
       "      <td>0.750163</td>\n",
       "      <td>0.746905</td>\n",
       "      <td>0.748892</td>\n",
       "      <td>0.001413</td>\n",
       "      <td>5</td>\n",
       "    </tr>\n",
       "    <tr>\n",
       "      <th>2</th>\n",
       "      <td>36.446605</td>\n",
       "      <td>1.929352</td>\n",
       "      <td>9.648827</td>\n",
       "      <td>2.291615</td>\n",
       "      <td>0.7</td>\n",
       "      <td>(3, 3)</td>\n",
       "      <td>{'clf__subsample': 0.7, 'vect__ngram_range': (...</td>\n",
       "      <td>0.550673</td>\n",
       "      <td>0.550496</td>\n",
       "      <td>0.547383</td>\n",
       "      <td>0.548614</td>\n",
       "      <td>0.549917</td>\n",
       "      <td>0.549416</td>\n",
       "      <td>0.001247</td>\n",
       "      <td>7</td>\n",
       "    </tr>\n",
       "    <tr>\n",
       "      <th>3</th>\n",
       "      <td>56.175344</td>\n",
       "      <td>5.808096</td>\n",
       "      <td>8.555709</td>\n",
       "      <td>0.927649</td>\n",
       "      <td>0.8</td>\n",
       "      <td>(1, 1)</td>\n",
       "      <td>{'clf__subsample': 0.8, 'vect__ngram_range': (...</td>\n",
       "      <td>0.950195</td>\n",
       "      <td>0.951640</td>\n",
       "      <td>0.946644</td>\n",
       "      <td>0.946862</td>\n",
       "      <td>0.950481</td>\n",
       "      <td>0.949165</td>\n",
       "      <td>0.002029</td>\n",
       "      <td>3</td>\n",
       "    </tr>\n",
       "    <tr>\n",
       "      <th>4</th>\n",
       "      <td>40.462348</td>\n",
       "      <td>1.922052</td>\n",
       "      <td>7.620048</td>\n",
       "      <td>0.264501</td>\n",
       "      <td>0.8</td>\n",
       "      <td>(2, 2)</td>\n",
       "      <td>{'clf__subsample': 0.8, 'vect__ngram_range': (...</td>\n",
       "      <td>0.748371</td>\n",
       "      <td>0.750814</td>\n",
       "      <td>0.748136</td>\n",
       "      <td>0.749005</td>\n",
       "      <td>0.748570</td>\n",
       "      <td>0.748979</td>\n",
       "      <td>0.000961</td>\n",
       "      <td>4</td>\n",
       "    </tr>\n",
       "  </tbody>\n",
       "</table>\n",
       "</div>"
      ],
      "text/plain": [
       "   mean_fit_time  std_fit_time  mean_score_time  std_score_time  \\\n",
       "0      69.778272      7.617463         9.294424        1.296328   \n",
       "1      47.640635      4.917583         7.124934        0.411155   \n",
       "2      36.446605      1.929352         9.648827        2.291615   \n",
       "3      56.175344      5.808096         8.555709        0.927649   \n",
       "4      40.462348      1.922052         7.620048        0.264501   \n",
       "\n",
       "  param_clf__subsample param_vect__ngram_range  \\\n",
       "0                  0.7                  (1, 1)   \n",
       "1                  0.7                  (2, 2)   \n",
       "2                  0.7                  (3, 3)   \n",
       "3                  0.8                  (1, 1)   \n",
       "4                  0.8                  (2, 2)   \n",
       "\n",
       "                                              params  split0_test_score  \\\n",
       "0  {'clf__subsample': 0.7, 'vect__ngram_range': (...           0.947879   \n",
       "1  {'clf__subsample': 0.7, 'vect__ngram_range': (...           0.748950   \n",
       "2  {'clf__subsample': 0.7, 'vect__ngram_range': (...           0.550673   \n",
       "3  {'clf__subsample': 0.8, 'vect__ngram_range': (...           0.950195   \n",
       "4  {'clf__subsample': 0.8, 'vect__ngram_range': (...           0.748371   \n",
       "\n",
       "   split1_test_score  split2_test_score  split3_test_score  split4_test_score  \\\n",
       "0           0.951061           0.947948           0.947513           0.952870   \n",
       "1           0.750670           0.747774           0.750163           0.746905   \n",
       "2           0.550496           0.547383           0.548614           0.549917   \n",
       "3           0.951640           0.946644           0.946862           0.950481   \n",
       "4           0.750814           0.748136           0.749005           0.748570   \n",
       "\n",
       "   mean_test_score  std_test_score  rank_test_score  \n",
       "0         0.949454        0.002134                2  \n",
       "1         0.748892        0.001413                5  \n",
       "2         0.549416        0.001247                7  \n",
       "3         0.949165        0.002029                3  \n",
       "4         0.748979        0.000961                4  "
      ]
     },
     "metadata": {},
     "output_type": "display_data"
    }
   ],
   "source": [
    "TrainModel(xgb_grid, X_train, y_train)"
   ]
  },
  {
   "cell_type": "markdown",
   "metadata": {},
   "source": [
    "---\n",
    "The training model returns a best cv score of 95% while using subsample parameter of .9 and ngram range of 1 to 1.\n",
    "\n",
    "---"
   ]
  },
  {
   "cell_type": "code",
   "execution_count": 39,
   "metadata": {},
   "outputs": [
    {
     "data": {
      "text/plain": [
       "<matplotlib.colorbar.Colorbar at 0x7f9b18febc50>"
      ]
     },
     "execution_count": 39,
     "metadata": {},
     "output_type": "execute_result"
    },
    {
     "data": {
      "image/png": "[encoded data removed]",
      "text/plain": [
       "<Figure size 1080x576 with 2 Axes>"
      ]
     },
     "metadata": {
      "needs_background": "light"
     },
     "output_type": "display_data"
    }
   ],
   "source": [
    "gsHeatmap(xgb_grid, xgb_param_grid, \"clf__subsample\")"
   ]
  },
  {
   "cell_type": "code",
   "execution_count": 40,
   "metadata": {},
   "outputs": [
    {
     "name": "stdout",
     "output_type": "stream",
     "text": [
      "Test score: 0.95\n",
      "[[14225   387]\n",
      " [ 1094 13894]]\n",
      "              precision    recall  f1-score   support\n",
      "\n",
      "           0       0.93      0.97      0.95     14612\n",
      "           1       0.97      0.93      0.95     14988\n",
      "\n",
      "    accuracy                           0.95     29600\n",
      "   macro avg       0.95      0.95      0.95     29600\n",
      "weighted avg       0.95      0.95      0.95     29600\n",
      "\n"
     ]
    }
   ],
   "source": [
    "ModelResults(xgb_grid, X_test, y_test)"
   ]
  },
  {
   "cell_type": "markdown",
   "metadata": {},
   "source": [
    "---\n",
    "The model returns a test score of 95%, with 387 false positives and 1094 false negatives.\n",
    "\n",
    "\n",
    "### Model Comparison\n",
    "---\n",
    "To compare models easily, we can create a dataframe with each algorithm's results.\n"
   ]
  },
  {
   "cell_type": "code",
   "execution_count": 41,
   "metadata": {},
   "outputs": [],
   "source": [
    "from sklearn.metrics import precision_score, recall_score, accuracy_score, f1_score"
   ]
  },
  {
   "cell_type": "code",
   "execution_count": 53,
   "metadata": {},
   "outputs": [],
   "source": [
    "nb_prediction = nb_grid.predict(X_test)\n",
    "\n",
    "nb_accuracy_metric = accuracy_score(y_test, nb_prediction)\n",
    "nb_precision = precision_score(y_test, nb_prediction, average = \"macro\")\n",
    "nb_recall_metric = recall_score(y_test, nb_prediction, average = \"macro\")\n",
    "nb_f1_metric = f1_score(y_test, nb_prediction, average = \"macro\")"
   ]
  },
  {
   "cell_type": "code",
   "execution_count": 56,
   "metadata": {},
   "outputs": [],
   "source": [
    "lr_prediction = lr_grid.predict(X_test)\n",
    "\n",
    "lr_accuracy_metric = accuracy_score(y_test, lr_prediction)\n",
    "lr_precision = precision_score(y_test, lr_prediction, average = \"macro\")\n",
    "lr_recall_metric = recall_score(y_test, lr_prediction, average = \"macro\")\n",
    "lr_f1_metric = f1_score(y_test, lr_prediction, average = \"macro\")"
   ]
  },
  {
   "cell_type": "code",
   "execution_count": 62,
   "metadata": {},
   "outputs": [],
   "source": [
    "svc_prediction = svc_grid.predict(X_test)\n",
    "\n",
    "svc_accuracy_metric = accuracy_score(y_test, svc_prediction)\n",
    "svc_precision = precision_score(y_test, svc_prediction, average = \"macro\")\n",
    "svc_recall_metric = recall_score(y_test, svc_prediction, average = \"macro\")\n",
    "svc_f1_metric = f1_score(y_test, svc_prediction, average = \"macro\")"
   ]
  },
  {
   "cell_type": "code",
   "execution_count": 64,
   "metadata": {},
   "outputs": [],
   "source": [
    "rf_prediction = rf_grid.predict(X_test)\n",
    "\n",
    "rf_accuracy_metric = accuracy_score(y_test, rf_prediction)\n",
    "rf_precision = precision_score(y_test, rf_prediction, average = \"macro\")\n",
    "rf_recall_metric = recall_score(y_test, rf_prediction, average = \"macro\")\n",
    "rf_f1_metric = f1_score(y_test, rf_prediction, average = \"macro\")"
   ]
  },
  {
   "cell_type": "code",
   "execution_count": 65,
   "metadata": {},
   "outputs": [],
   "source": [
    "xgb_prediction = xgb_grid.predict(X_test)\n",
    "\n",
    "xgb_accuracy_metric = accuracy_score(y_test, xgb_prediction)\n",
    "xgb_precision = precision_score(y_test, xgb_prediction, average = \"macro\")\n",
    "xgb_recall_metric = recall_score(y_test, xgb_prediction, average = \"macro\")\n",
    "xgb_f1_metric = f1_score(y_test, xgb_prediction, average = \"macro\")"
   ]
  },
  {
   "cell_type": "code",
   "execution_count": 66,
   "metadata": {},
   "outputs": [],
   "source": [
    "models_score_df = pd.DataFrame({'naive_bayes':[nb_accuracy_metric,\n",
    "                                              nb_precision,\n",
    "                                              nb_recall_metric,\n",
    "                                              nb_f1_metric],\n",
    "                                'logistic_regression':[lr_accuracy_metric,\n",
    "                                              lr_precision,\n",
    "                                              lr_recall_metric,\n",
    "                                              lr_f1_metric],\n",
    "                                'svc':[svc_accuracy_metric,\n",
    "                                              svc_precision,\n",
    "                                              svc_recall_metric,\n",
    "                                              svc_f1_metric],\n",
    "                                'random_forest':[rf_accuracy_metric,\n",
    "                                              rf_precision,\n",
    "                                              rf_recall_metric,\n",
    "                                              rf_f1_metric],\n",
    "                                'xgboost':[xgb_accuracy_metric,\n",
    "                                              xgb_precision,\n",
    "                                              xgb_recall_metric,\n",
    "                                              xgb_f1_metric]},\n",
    "                               \n",
    "                               index=['Accuracy', 'Precision', 'Recall', 'F1 Score'])\n",
    "\n",
    "models_score_df['best_score'] = models_score_df.idxmax(axis=1)"
   ]
  },
  {
   "cell_type": "code",
   "execution_count": 67,
   "metadata": {},
   "outputs": [
    {
     "data": {
      "text/html": [
       "<div>\n",
       "<style scoped>\n",
       "    .dataframe tbody tr th:only-of-type {\n",
       "        vertical-align: middle;\n",
       "    }\n",
       "\n",
       "    .dataframe tbody tr th {\n",
       "        vertical-align: top;\n",
       "    }\n",
       "\n",
       "    .dataframe thead th {\n",
       "        text-align: right;\n",
       "    }\n",
       "</style>\n",
       "<table border=\"1\" class=\"dataframe\">\n",
       "  <thead>\n",
       "    <tr style=\"text-align: right;\">\n",
       "      <th></th>\n",
       "      <th>naive_bayes</th>\n",
       "      <th>logistic_regression</th>\n",
       "      <th>svc</th>\n",
       "      <th>random_forest</th>\n",
       "      <th>xgboost</th>\n",
       "      <th>best_score</th>\n",
       "    </tr>\n",
       "  </thead>\n",
       "  <tbody>\n",
       "    <tr>\n",
       "      <th>Accuracy</th>\n",
       "      <td>0.885845</td>\n",
       "      <td>0.953243</td>\n",
       "      <td>0.952804</td>\n",
       "      <td>0.972162</td>\n",
       "      <td>0.949966</td>\n",
       "      <td>random_forest</td>\n",
       "    </tr>\n",
       "    <tr>\n",
       "      <th>Precision</th>\n",
       "      <td>0.888329</td>\n",
       "      <td>0.953232</td>\n",
       "      <td>0.952855</td>\n",
       "      <td>0.972353</td>\n",
       "      <td>0.950743</td>\n",
       "      <td>random_forest</td>\n",
       "    </tr>\n",
       "    <tr>\n",
       "      <th>Recall</th>\n",
       "      <td>0.886366</td>\n",
       "      <td>0.953241</td>\n",
       "      <td>0.952914</td>\n",
       "      <td>0.972330</td>\n",
       "      <td>0.950262</td>\n",
       "      <td>random_forest</td>\n",
       "    </tr>\n",
       "    <tr>\n",
       "      <th>F1 Score</th>\n",
       "      <td>0.885743</td>\n",
       "      <td>0.953236</td>\n",
       "      <td>0.952803</td>\n",
       "      <td>0.972162</td>\n",
       "      <td>0.949960</td>\n",
       "      <td>random_forest</td>\n",
       "    </tr>\n",
       "  </tbody>\n",
       "</table>\n",
       "</div>"
      ],
      "text/plain": [
       "           naive_bayes  logistic_regression       svc  random_forest  \\\n",
       "Accuracy      0.885845             0.953243  0.952804       0.972162   \n",
       "Precision     0.888329             0.953232  0.952855       0.972353   \n",
       "Recall        0.886366             0.953241  0.952914       0.972330   \n",
       "F1 Score      0.885743             0.953236  0.952803       0.972162   \n",
       "\n",
       "            xgboost     best_score  \n",
       "Accuracy   0.949966  random_forest  \n",
       "Precision  0.950743  random_forest  \n",
       "Recall     0.950262  random_forest  \n",
       "F1 Score   0.949960  random_forest  "
      ]
     },
     "execution_count": 67,
     "metadata": {},
     "output_type": "execute_result"
    }
   ],
   "source": [
    "models_score_df"
   ]
  },
  {
   "cell_type": "markdown",
   "metadata": {},
   "source": [
    "---\n",
    "From the above dataframe, we can see that the random forest model returns the best results for each measurement, with 97.21% accuracy, 97.23% precision, 97.23% recall and an F1 score of 97.21%.\n",
    "\n",
    "---"
   ]
  }
 ],
 "metadata": {
  "kernelspec": {
   "display_name": "Python 3",
   "language": "python",
   "name": "python3"
  },
  "language_info": {
   "codemirror_mode": {
    "name": "ipython",
    "version": 3
   },
   "file_extension": ".py",
   "mimetype": "text/x-python",
   "name": "python",
   "nbconvert_exporter": "python",
   "pygments_lexer": "ipython3",
   "version": "3.7.6"
  }
 },
 "nbformat": 4,
 "nbformat_minor": 4
}
